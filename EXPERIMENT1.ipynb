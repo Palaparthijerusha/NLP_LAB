{
  "nbformat": 4,
  "nbformat_minor": 0,
  "metadata": {
    "colab": {
      "name": "Untitled2.ipynb",
      "provenance": [],
      "authorship_tag": "ABX9TyMiUkY1Npzx0mmcsq2EWbGg",
      "include_colab_link": true
    },
    "kernelspec": {
      "name": "python3",
      "display_name": "Python 3"
    },
    "language_info": {
      "name": "python"
    }
  },
  "cells": [
    {
      "cell_type": "markdown",
      "metadata": {
        "id": "view-in-github",
        "colab_type": "text"
      },
      "source": [
        "<a href=\"https://colab.research.google.com/github/Palaparthijerusha/NLP_LAB/blob/main/EXPERIMENT1.ipynb\" target=\"_parent\"><img src=\"https://colab.research.google.com/assets/colab-badge.svg\" alt=\"Open In Colab\"/></a>"
      ]
    },
    {
      "cell_type": "markdown",
      "metadata": {
        "id": "i3MxHrgF63qo"
      },
      "source": [
        "**Experiment** - **1** "
      ]
    },
    {
      "cell_type": "markdown",
      "metadata": {
        "id": "_z02J2Q06_iY"
      },
      "source": [
        "**1.Replace all occurrences of 5 with ‘five’ for the given string**\n"
      ]
    },
    {
      "cell_type": "code",
      "metadata": {
        "colab": {
          "base_uri": "https://localhost:8080/",
          "height": 35
        },
        "id": "Keyln4vp7Ktw",
        "outputId": "b42905f5-ea20-4b30-de65-27b7a70a53f6"
      },
      "source": [
        "import re\n",
        "s='I gave a 5 star rating for that delivery boy.'\n",
        "re.sub(r'5', 'five', s)"
      ],
      "execution_count": 1,
      "outputs": [
        {
          "output_type": "execute_result",
          "data": {
            "application/vnd.google.colaboratory.intrinsic+json": {
              "type": "string"
            },
            "text/plain": [
              "'I gave a five star rating for that delivery boy.'"
            ]
          },
          "metadata": {},
          "execution_count": 1
        }
      ]
    },
    {
      "cell_type": "markdown",
      "metadata": {
        "id": "eHYxvB-N7fhQ"
      },
      "source": [
        "**2.For the given list, filter all elements that do not contain ‘e’.**"
      ]
    },
    {
      "cell_type": "code",
      "metadata": {
        "colab": {
          "base_uri": "https://localhost:8080/"
        },
        "id": "mEo6TdK-7j4g",
        "outputId": "e120fcb5-3856-4cdf-a819-e608dd9e9873"
      },
      "source": [
        "list = ['hello', 'jerry', 'deepu', 'kavya']\n",
        "[x for x in list if not re.search(r'e', x)]"
      ],
      "execution_count": 2,
      "outputs": [
        {
          "output_type": "execute_result",
          "data": {
            "text/plain": [
              "['kavya']"
            ]
          },
          "metadata": {},
          "execution_count": 2
        }
      ]
    },
    {
      "cell_type": "markdown",
      "metadata": {
        "id": "D1zicf36620h"
      },
      "source": [
        "**3.For the given input string, display all lines not containing ‘start’ irrespective of case.**"
      ]
    },
    {
      "cell_type": "code",
      "metadata": {
        "colab": {
          "base_uri": "https://localhost:8080/"
        },
        "id": "MzX53Upq7zcw",
        "outputId": "a69dd18c-513a-4bad-ac08-51e63c013537"
      },
      "source": [
        "k = '''start doing\n",
        "practice from geeks for geeks.\n",
        "It is a very \n",
        "good platform for coding.\n",
        "Always start from the fundamentals. \n",
        "'''\n",
        "w = re.compile(r'start', flags=re.I)\n",
        "for i in k.split('\\n'):\n",
        "     if not w.search(i):\n",
        "         print(i)"
      ],
      "execution_count": 5,
      "outputs": [
        {
          "output_type": "stream",
          "name": "stdout",
          "text": [
            "practice from geeks for geeks.\n",
            "It is a very \n",
            "good platform for coding.\n",
            "\n"
          ]
        }
      ]
    },
    {
      "cell_type": "markdown",
      "metadata": {
        "id": "3bqNz-JH8V0J"
      },
      "source": [
        "**4.For the given input list, filter all elements that contains 42 surrounded by word characters.**\n",
        "\n"
      ]
    },
    {
      "cell_type": "code",
      "metadata": {
        "colab": {
          "base_uri": "https://localhost:8080/"
        },
        "id": "604Z4aor8Z7Q",
        "outputId": "06a0129f-3731-404d-bb54-0a6fed39e8b7"
      },
      "source": [
        "list = ['sony42p', 'deepu4567', 'jerry26', 'sunnu07', 'raju42']\n",
        "[x for x in list if re.search(r'\\B42\\B', x)]\n"
      ],
      "execution_count": 6,
      "outputs": [
        {
          "output_type": "execute_result",
          "data": {
            "text/plain": [
              "['sony42p']"
            ]
          },
          "metadata": {},
          "execution_count": 6
        }
      ]
    },
    {
      "cell_type": "markdown",
      "metadata": {
        "id": "dZ1Ugn-283kY"
      },
      "source": [
        "**5.Validate the CVV number(It should have 3 or 4 digits, It should have a digit between 0-9, It should not have any alphabets and special characters)**"
      ]
    },
    {
      "cell_type": "code",
      "metadata": {
        "colab": {
          "base_uri": "https://localhost:8080/"
        },
        "id": "GNP6eKls9Sso",
        "outputId": "0490f93b-20aa-4250-d6bb-59b869509b94"
      },
      "source": [
        "def isValidCVVNumber(str):\n",
        "    regex = \"^[0-9]{3,4}$\"\n",
        "    p = re.compile(regex)\n",
        "    if(str == None):\n",
        "        return False\n",
        "    if(re.search(p, str)):\n",
        "        return True\n",
        "    else:\n",
        "        return False\n",
        "s1 = \"1234\"\n",
        "print(isValidCVVNumber(s1))\n",
        "s2 = \"798\"\n",
        "print(isValidCVVNumber(s2))\n",
        "s3 = \"5698\"\n",
        "print(isValidCVVNumber(s3))\n",
        "s4 = \"2@976\"\n",
        "print(isValidCVVNumber(s4))\n"
      ],
      "execution_count": 7,
      "outputs": [
        {
          "output_type": "stream",
          "name": "stdout",
          "text": [
            "True\n",
            "True\n",
            "True\n",
            "False\n"
          ]
        }
      ]
    },
    {
      "cell_type": "markdown",
      "metadata": {
        "id": "qt-o4nTi90XN"
      },
      "source": [
        "**6.For the given input string, change whole word mall to 1234 only if it is at the start of a line**\n",
        "\n"
      ]
    },
    {
      "cell_type": "code",
      "metadata": {
        "colab": {
          "base_uri": "https://localhost:8080/"
        },
        "id": "AuqNAwmm-C4Q",
        "outputId": "3a651a0c-32ad-44c5-da66-cd151ee2b72a"
      },
      "source": [
        "p = '''\n",
        "jeru tommy sonu\n",
        "went to\n",
        "mall for shopping\n",
        "and then\n",
        "retrurned  \n",
        "from mall'''\n",
        "\n",
        "print(re.sub(r'^mall\\b', '1234', p, flags=re.M))\n"
      ],
      "execution_count": 8,
      "outputs": [
        {
          "output_type": "stream",
          "name": "stdout",
          "text": [
            "\n",
            "jeru tommy sonu\n",
            "went to\n",
            "1234 for shopping\n",
            "and then\n",
            "retrurned  \n",
            "from mall\n"
          ]
        }
      ]
    },
    {
      "cell_type": "markdown",
      "metadata": {
        "id": "iGQ4gTkb-gio"
      },
      "source": [
        "**7.Check whether the given email address is valid or not**.\n"
      ]
    },
    {
      "cell_type": "code",
      "metadata": {
        "colab": {
          "base_uri": "https://localhost:8080/"
        },
        "id": "KRyHOjk--s62",
        "outputId": "c31e1985-fb91-430b-b625-3283a4831200"
      },
      "source": [
        "regex = r'\\b[A-Za-z0-9._%+-]+@[A-Za-z0-9.-]+\\.[A-Z|a-z]{2,}\\b'\n",
        " \n",
        "def check(email):\n",
        "    if(re.fullmatch(regex, email)):\n",
        "        print(\"Valid Email\")\n",
        "    else:\n",
        "        print(\"Invalid Email\")\n",
        "if __name__ == '__main__':\n",
        "    email = \"jerry@gmail.com\"\n",
        "    check(email)\n",
        "    email = \"deepu@123.org\"\n",
        "    check(email) \n",
        "    email = \"SONY5643.com\"\n",
        "    check(email)\n"
      ],
      "execution_count": 9,
      "outputs": [
        {
          "output_type": "stream",
          "name": "stdout",
          "text": [
            "Valid Email\n",
            "Valid Email\n",
            "Invalid Email\n"
          ]
        }
      ]
    },
    {
      "cell_type": "markdown",
      "metadata": {
        "id": "o5CLRhdo_CmY"
      },
      "source": [
        "**8.Check whether the Aadhar number is valid or not ( It should have 12 digits, It should not start with 0 and 1, It should not contain any alphabet and special characters, It should have white space after every 4 digits)**"
      ]
    },
    {
      "cell_type": "code",
      "metadata": {
        "colab": {
          "base_uri": "https://localhost:8080/"
        },
        "id": "jZ60H9yd_GGv",
        "outputId": "975f7a74-d20f-42cd-8427-4dfd9023430f"
      },
      "source": [
        "def isValidAadharNumber(str):\n",
        "  regex = (\"^[2-9]{1}[0-9]{3}\\\\\" + \"s[0-9]{4}\\\\s[0-9]{4}$\")\n",
        "  a= re.compile(regex)\n",
        "  if (str == None):\n",
        "        return False\n",
        "  if(re.search(a, str)):\n",
        "        return True\n",
        "  else:\n",
        "        return False\n",
        "s1 = \"3675 9834 6015 3216\"\n",
        "print(isValidAadharNumber(s1))\n",
        "s2 = \"4675 9834 9564\"\n",
        "print(isValidAadharNumber(s2))\n",
        "s3 = \"0175 9834 7543\"\n",
        "print(isValidAadharNumber(s3))\n",
        "s4 = \"3675 98AF 74@5\"\n",
        "print(isValidAadharNumber(s4))\n",
        "s5 = \"674934512859\"\n",
        "print(isValidAadharNumber(s5))"
      ],
      "execution_count": 10,
      "outputs": [
        {
          "output_type": "stream",
          "name": "stdout",
          "text": [
            "False\n",
            "True\n",
            "False\n",
            "False\n",
            "False\n"
          ]
        }
      ]
    }
  ]
}